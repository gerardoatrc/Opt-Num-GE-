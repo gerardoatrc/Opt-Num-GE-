{
 "cells": [
  {
   "cell_type": "code",
   "execution_count": 1,
   "id": "74f68122",
   "metadata": {},
   "outputs": [],
   "source": [
    "import numpy as np\n",
    "from scipy.optimize import line_search\n",
    "        "
   ]
  },
  {
   "cell_type": "code",
   "execution_count": 2,
   "id": "b8ce7bdb",
   "metadata": {},
   "outputs": [],
   "source": [
    "def Sphere(x):\n",
    "    return sum([xi**2 for xi in x])\n",
    "def WeightedSphere(x):\n",
    "    return sum([(i+1)*xi**2 for i, xi in enumerate(x)])"
   ]
  },
  {
   "cell_type": "code",
   "execution_count": 48,
   "id": "a656f84b",
   "metadata": {},
   "outputs": [],
   "source": [
    "def dF(x,F=Sphere ,h=1e-5):\n",
    "    #Gradiante por diferencias centradas\n",
    "    n=len(x)\n",
    "    grad = np.zeros(n)\n",
    "    for i in range(n): #Se deriva en cada dirección para aproximar el gradiante\n",
    "        x_plus = x.copy()\n",
    "        x_minus = x.copy()\n",
    "        x_plus[i] += h\n",
    "        x_minus[i] -= h\n",
    "        x_minus = x.copy()\n",
    "        x_plus[i] += h\n",
    "        grad[i] = (F(x_plus) - F(x_minus)) / (2*h) # Aproximación de la derivada parcial\n",
    "    return grad\n"
   ]
  },
  {
   "cell_type": "code",
   "execution_count": 64,
   "id": "13a0816b",
   "metadata": {},
   "outputs": [
    {
     "name": "stdout",
     "output_type": "stream",
     "text": [
      "Mínimo encontrado en: [-1.8189287e-06 -1.8189287e-06]\n"
     ]
    }
   ],
   "source": [
    "def cg_descent(F, x, tol=1e-6, max_iter=1000,nn=1):\n",
    "    \"\"\"\n",
    "    Método CG_DESCENT con gradiente numérico para minimizar F(x).\n",
    "    \n",
    "    :param F: Función escalar a minimizar\n",
    "    :param x0: Punto inicial (vector)\n",
    "    :param tol: Tolerancia para convergencia\n",
    "    :param max_iter: Máximas iteraciones\n",
    "    :return: Punto mínimo encontrado\n",
    "    \"\"\"\n",
    "    g = dF(x)  # Gradiente inicial\n",
    "    d = -g                        # Dirección inicial\n",
    "    g_norm = np.linalg.norm(g)\n",
    "\n",
    "    for k in range(max_iter):\n",
    "        if g_norm < tol:\n",
    "            break\n",
    "\n",
    "        # Búsqueda de línea con Wolfe conditions\n",
    "        alpha = line_search(F, dF, x, d)[0]\n",
    "        if alpha is None:\n",
    "            alpha = 1e-4  # Valor pequeño si la búsqueda de línea falla\n",
    "\n",
    "        # Actualización de x\n",
    "        x_new = x + alpha * d\n",
    "        g_new = dF(x_new)\n",
    "\n",
    "        #  Se utiliza el teorema 1.1 para garantizar descenso \n",
    "        yk = g_new - g\n",
    "        lykl = np.linalg.norm(yk)\n",
    "        nk = -1/(np.linalg.norm(d)*min(nn,np.linalg.norm(g)))\n",
    "        #betaN = max(nk, np.dot(g_new, yk) / np.dot(d, yk))\n",
    "        #print(beta)\n",
    "        betaN = np.dot(g_new, (yk)-2*d*lykl) / np.dot(d, yk)\n",
    "        beta = max(0, betaN )\n",
    "\n",
    "        # Actualizar dirección\n",
    "        d = -g_new + beta * d\n",
    "        x, g = x_new, g_new\n",
    "        g_norm = np.linalg.norm(g)\n",
    "\n",
    "    return x\n",
    "\n",
    "x0 = np.array([1.0, 1.0])  # Punto inicial\n",
    "x_min = cg_descent(Sphere, x0)\n",
    "\n",
    "print(\"Mínimo encontrado en:\", x_min)"
   ]
  },
  {
   "cell_type": "code",
   "execution_count": 30,
   "id": "c433df9e",
   "metadata": {},
   "outputs": [
    {
     "name": "stdout",
     "output_type": "stream",
     "text": [
      "<class 'numpy.ndarray'>\n"
     ]
    }
   ],
   "source": [
    "x=[1,2,3]\n",
    "grad = np.zeros(len(x))\n",
    "print(type(grad))"
   ]
  },
  {
   "cell_type": "code",
   "execution_count": null,
   "id": "eee92599",
   "metadata": {},
   "outputs": [],
   "source": []
  }
 ],
 "metadata": {
  "kernelspec": {
   "display_name": "Python 3 (ipykernel)",
   "language": "python",
   "name": "python3"
  },
  "language_info": {
   "codemirror_mode": {
    "name": "ipython",
    "version": 3
   },
   "file_extension": ".py",
   "mimetype": "text/x-python",
   "name": "python",
   "nbconvert_exporter": "python",
   "pygments_lexer": "ipython3",
   "version": "3.10.9"
  }
 },
 "nbformat": 4,
 "nbformat_minor": 5
}
