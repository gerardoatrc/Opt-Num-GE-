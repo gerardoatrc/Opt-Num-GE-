{
 "cells": [
  {
   "cell_type": "code",
   "execution_count": 1,
   "id": "9fcb119b",
   "metadata": {},
   "outputs": [],
   "source": [
    "#Aquiagregamos todas las librerias\n",
    "import numpy as np\n",
    "import math\n"
   ]
  },
  {
   "cell_type": "code",
   "execution_count": 2,
   "id": "29010923",
   "metadata": {},
   "outputs": [],
   "source": [
    "def particle_swarm_optimization(obj_func, dim, bounds, num_particles, max_iter, inertia, cognitive, social):\n",
    "    # Inicializar partículas\n",
    "    positions = np.random.uniform(bounds[0], bounds[1], (num_particles, dim))\n",
    "    velocities = np.random.uniform(-1, 1, (num_particles, dim))\n",
    "    personal_best_positions = positions.copy()\n",
    "    personal_best_scores = np.array([obj_func(pos) for pos in positions])\n",
    "    global_best_position = personal_best_positions[np.argmin(personal_best_scores)]\n",
    "    global_best_score = np.min(personal_best_scores)\n",
    "\n",
    "    # PSO Loop\n",
    "    for iter in range(max_iter):\n",
    "        for i in range(num_particles):\n",
    "            # Evaluar la posición actual\n",
    "            fitness = obj_func(positions[i])\n",
    "            \n",
    "            # Actualizar mejor personal\n",
    "            if fitness < personal_best_scores[i]:\n",
    "                personal_best_scores[i] = fitness\n",
    "                personal_best_positions[i] = positions[i]\n",
    "            \n",
    "            # Actualizar mejor global\n",
    "            if fitness < global_best_score:\n",
    "                global_best_score = fitness\n",
    "                global_best_position = positions[i]\n",
    "\n",
    "        # Actualizar velocidades y posiciones\n",
    "        for i in range(num_particles):\n",
    "            r1, r2 = np.random.rand(dim), np.random.rand(dim)  # Factores aleatorios\n",
    "            cognitive_component = cognitive * r1 * (personal_best_positions[i] - positions[i])\n",
    "            social_component = social * r2 * (global_best_position - positions[i])\n",
    "            velocities[i] = inertia * velocities[i] + cognitive_component + social_component\n",
    "            positions[i] = positions[i] + velocities[i]\n",
    "            \n",
    "            # Limitar posiciones a los límites dados\n",
    "            positions[i] = np.clip(positions[i], bounds[0], bounds[1])\n",
    "\n",
    "        # Imprimir progreso\n",
    "        #print(f\"Iteración {iter + 1}/{max_iter}, Mejor Fitness: {global_best_score}\")\n",
    "\n",
    "    return global_best_position, global_best_score\n"
   ]
  },
  {
   "cell_type": "code",
   "execution_count": 3,
   "id": "71f23ef6",
   "metadata": {},
   "outputs": [],
   "source": [
    "#En este modulo se insertan todasla funciones para testear que aparecen en tabla 1 de \n",
    "#The gradient evolution algorithm: A new metaheuristic\n",
    "def Sphere(x):\n",
    "    return sum([xi**2 for xi in x])\n",
    "def WeightedSphere(x):\n",
    "    return sum([(i+1)*xi**2 for i, xi in enumerate(x)])\n",
    "def SumOfDifferentPower(x):\n",
    "    return sum([abs(xi) ** (i + 1) for i, xi in enumerate(x)])\n",
    "def StepFunction (x):\n",
    "    return sum([math.floor(xi+0.5)**2 for xi in x])\n",
    "def Schwefel1_2(x):\n",
    "    sum_j = 0\n",
    "    for i in range(1, len(x) + 1):\n",
    "        sum_i = sum(x[:i])#Suma hasta el elemento i\n",
    "        sum_j += sum_i**2\n",
    "    return sum_j\n",
    "def Schwefel2_2(x):\n",
    "    return sum([abs(xi) for xi in x])+np.prod([abs(xi) for xi in x])\n",
    "def rosenbrock(x):\n",
    "    sum_i = 0\n",
    "    #Se toma D-1 para que la función pueda quedar dentro de los limites del indice\n",
    "    for i in range(len(x) - 1):\n",
    "        sum_i += (x[i] - 1)**2 + 100 * (x[i+1] - x[i]**2)**2\n",
    "    return sum_i\n",
    "def easom(x):\n",
    "    return -((-1)**len(x)) * np.prod(np.cos(x)**2)*np.exp(-np.sum((x - np.pi)**2))\n",
    "def ackley(x):\n",
    "    D = len(x)\n",
    "    suma_cuadrados = sum([xi**2 for xi in x])\n",
    "    suma_cosenos=sum([np.cos(2 * np.pi * xi) for xi in x])\n",
    "    term1 = -20 * np.exp(-0.2 * np.sqrt(suma_cuadrados / D))\n",
    "    term2 = -np.exp(suma_cosenos / D)\n",
    "    return term1 + term2 + 20 + np.exp(1)\n",
    "def griewank(x):\n",
    "    suma_cuadrados = sum([xi**2 for xi in x])\n",
    "    producto_cosenos = np.prod([np.cos(xi / np.sqrt(i+1)) for i, xi in enumerate(x)])\n",
    "    return 1/4000*suma_cuadrados-producto_cosenos+1\n",
    "def rastrigin(x):\n",
    "    return sum([(xi**2 - 10 * np.cos(2 * np.pi * xi))+10 for xi in x])\n",
    "def salomon(x):\n",
    "    suma_cuadrados = sum([xi**2 for xi in x])\n",
    "    return - np.cos(2 * np.pi * np.sqrt(suma_cuadrados)) + 0.1 * np.sqrt(suma_cuadrados)+1\n",
    "def schwefel_2_3(x):\n",
    "    return 418.9892*len(x)*sum([-xi*np.sin(np.sqrt(abs(xi))) for xi in x]) \n",
    "def Whitley(x):\n",
    "    D = len(x)\n",
    "    total_sum = 0\n",
    "    for i in range(D):\n",
    "        for j in range(D):\n",
    "            y_ij = 100 * (x[j] - x[i]**2)**2 + (1 - x[j])**2\n",
    "            total_sum += (y_ij**2 / 4000 - np.cos(y_ij) + 1)**2\n",
    "    return total_sum"
   ]
  },
  {
   "cell_type": "code",
   "execution_count": 4,
   "id": "32a5ccc0",
   "metadata": {},
   "outputs": [],
   "source": [
    "dim = 10  # Dimensión del problema\n",
    "bounds = (-100, 100)  # Límites del espacio de búsqueda\n",
    "num_particles = 20  # Número de partículas\n",
    "max_iter = 3000  # Número de iteraciones\n",
    "inertia = 0.7  # Factor de inercia\n",
    "cognitive = 1.5  # Componente cognitivo\n",
    "social = 1.5  # Componente social"
   ]
  },
  {
   "cell_type": "code",
   "execution_count": 5,
   "id": "5fd6b38c",
   "metadata": {},
   "outputs": [
    {
     "name": "stdout",
     "output_type": "stream",
     "text": [
      "Mejor posición encontrada para Sphere : [-2.37133494e-35 -4.20592872e-35  5.65517633e-35 -2.67610072e-35\n",
      " -8.95050464e-36 -2.36784088e-35 -3.95985437e-35 -7.16689431e-36\n",
      " -2.44849156e-35  6.64228062e-36]\n",
      "Fitness de la mejor posición para Sphere: 4.0610897657679814e-69\n"
     ]
    }
   ],
   "source": [
    "best_position, best_score = particle_swarm_optimization(\n",
    "    obj_func=Sphere,\n",
    "    dim=dim,\n",
    "    bounds=bounds,\n",
    "    num_particles=num_particles,\n",
    "    max_iter=max_iter,\n",
    "    inertia=inertia,\n",
    "    cognitive=cognitive,\n",
    "    social=social\n",
    ")\n",
    "\n",
    "# Resultados\n",
    "print(\"Mejor posición encontrada para Sphere :\", best_position)\n",
    "print(\"Fitness de la mejor posición para Sphere:\", best_score)"
   ]
  },
  {
   "cell_type": "markdown",
   "id": "70e608a9",
   "metadata": {},
   "source": [
    "Para una esfera 10 dimensional, una población de 20 y 300 iteraciones la mejor aproximaciòn fue de 1.03E-128 usando el algoritmo de DE,  con el algoritmo DE PSO En el paper tiene como mejor aproximación 1.08E-42,  "
   ]
  },
  {
   "cell_type": "markdown",
   "id": "19b3605f",
   "metadata": {},
   "source": [
    "Para la función de Rastrigin\n",
    "$$f(\\mathbf{x}) = \\sum_{i=1}^D \\left( x_i^2 - 10 \\cos(2\\pi x_i) + 10 \\right)$$\n",
    "una población de 20 y 300 iteraciones maximas la mejor aproximaciòn fue de 0 con el algoritmo de GE, usando el algoritmo DE PSO En el paper tiene como mejor aproximación 2.96.  "
   ]
  },
  {
   "cell_type": "code",
   "execution_count": 6,
   "id": "589e66f6",
   "metadata": {},
   "outputs": [
    {
     "name": "stdout",
     "output_type": "stream",
     "text": [
      "Mejor posición encontrada para rastrigin: [ 3.11848298e-10 -9.94958639e-01  9.94958638e-01 -5.23493012e-10\n",
      "  1.36100367e-10 -1.23951076e-10 -1.05475657e-09  1.98545162e-10\n",
      " -1.46122736e-09  8.92117482e-10]\n",
      "Fitness de la mejor posición para rastrigin: 1.9899181141865796\n"
     ]
    }
   ],
   "source": [
    "\n",
    "best_position, best_score = particle_swarm_optimization(\n",
    "    obj_func=rastrigin,\n",
    "    dim=dim,\n",
    "    bounds=bounds,\n",
    "    num_particles=num_particles,\n",
    "    max_iter=max_iter,\n",
    "    inertia=inertia,\n",
    "    cognitive=cognitive,\n",
    "    social=social\n",
    ")\n",
    "\n",
    "# Resultados\n",
    "print(\"Mejor posición encontrada para rastrigin:\", best_position)\n",
    "print(\"Fitness de la mejor posición para rastrigin:\", best_score)"
   ]
  },
  {
   "cell_type": "code",
   "execution_count": 7,
   "id": "69f4db10",
   "metadata": {},
   "outputs": [
    {
     "name": "stdout",
     "output_type": "stream",
     "text": [
      "Mejor posición encontrada para WeightedSphere : [ 1.63097275e-34  5.48596245e-35  6.03565475e-35  3.58564161e-36\n",
      "  1.99512666e-35 -2.07850046e-35  1.30653701e-36  6.48580175e-35\n",
      "  3.33314838e-35 -7.35479512e-35]\n",
      "Fitness de la mejor posición para WeightedSphere: 1.2373279119415758e-67\n"
     ]
    }
   ],
   "source": [
    "best_position, best_score = particle_swarm_optimization(\n",
    "    obj_func=WeightedSphere,\n",
    "    dim=dim,\n",
    "    bounds=bounds,\n",
    "    num_particles=num_particles,\n",
    "    max_iter=max_iter,\n",
    "    inertia=inertia,\n",
    "    cognitive=cognitive,\n",
    "    social=social\n",
    ")\n",
    "\n",
    "# Resultados\n",
    "print(\"Mejor posición encontrada para WeightedSphere :\", best_position)\n",
    "print(\"Fitness de la mejor posición para WeightedSphere:\", best_score)"
   ]
  },
  {
   "cell_type": "code",
   "execution_count": null,
   "id": "97254361",
   "metadata": {},
   "outputs": [],
   "source": []
  },
  {
   "cell_type": "code",
   "execution_count": null,
   "id": "bc1a96d1",
   "metadata": {},
   "outputs": [],
   "source": []
  }
 ],
 "metadata": {
  "kernelspec": {
   "display_name": "Python 3 (ipykernel)",
   "language": "python",
   "name": "python3"
  },
  "language_info": {
   "codemirror_mode": {
    "name": "ipython",
    "version": 3
   },
   "file_extension": ".py",
   "mimetype": "text/x-python",
   "name": "python",
   "nbconvert_exporter": "python",
   "pygments_lexer": "ipython3",
   "version": "3.10.9"
  }
 },
 "nbformat": 4,
 "nbformat_minor": 5
}
