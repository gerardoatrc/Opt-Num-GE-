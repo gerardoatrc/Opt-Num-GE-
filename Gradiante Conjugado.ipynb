{
 "cells": [
  {
   "cell_type": "code",
   "execution_count": 2,
   "id": "b5d213f8",
   "metadata": {},
   "outputs": [],
   "source": [
    "import numpy as np\n",
    "import matplotlib.pyplot as plt\n"
   ]
  },
  {
   "cell_type": "code",
   "execution_count": 11,
   "id": "170f6297",
   "metadata": {},
   "outputs": [
    {
     "name": "stdout",
     "output_type": "stream",
     "text": [
      "Matriz simétrica y definida positiva:\n",
      " [[ 3.22606894 -0.04526956  0.94154878  0.96329315]\n",
      " [-0.04526956  4.51805915  0.25200543  0.44490655]\n",
      " [ 0.94154878  0.25200543  2.78534053  1.04737731]\n",
      " [ 0.96329315  0.44490655  1.04737731  6.07874976]]\n",
      "Autovalores: [6.88075856 2.00643989 3.26810979 4.45291014]\n",
      "¿Es definida positiva? True\n",
      "Solución al gradiante conjugado: [0.23459284 0.42705216 0.21915533 0.0583149 ]\n",
      "Ax: [1. 2. 1. 1.]\n",
      "b: [1 2 1 1]\n"
     ]
    }
   ],
   "source": [
    "def gradiente_conjugado(A, b, x0=None, tol=1e-8, max_iter=1000):\n",
    "    \"\"\"\n",
    "    Implementación del método de Gradiente Conjugado para resolver Ax = b.\n",
    "    \n",
    "    Parámetros:\n",
    "    A : ndarray\n",
    "        Matriz simétrica y definida positiva de tamaño (n, n).\n",
    "    b : ndarray\n",
    "        Vector del lado derecho de tamaño (n,).\n",
    "    x0 : ndarray, opcional\n",
    "        Estimación inicial de tamaño (n,). Si no se proporciona, se usa un vector de ceros.\n",
    "    tol : float, opcional\n",
    "        Tolerancia para el criterio de convergencia.\n",
    "    max_iter : int, opcional\n",
    "        Número máximo de iteraciones.\n",
    "    \n",
    "    Retorna:\n",
    "    x : ndarray\n",
    "        Solución aproximada del sistema Ax = b.\n",
    "    \"\"\"\n",
    "    n = len(b)\n",
    "    if x0 is None:\n",
    "        x = np.zeros(n)  # Inicializamos x en ceros\n",
    "    else:\n",
    "        x = x0\n",
    "    \n",
    "    r = b - A @ x  # Residuo inicial\n",
    "    p = r.copy()\n",
    "    rs_old = np.dot(r, r)\n",
    "    \n",
    "    for i in range(max_iter):\n",
    "        Ap = A @ p\n",
    "        alpha = rs_old / np.dot(p, Ap)  # Paso de actualización\n",
    "        x += alpha * p\n",
    "        r -= alpha * Ap  # Nuevo residuo\n",
    "        rs_new = np.dot(r, r)\n",
    "\n",
    "        if np.sqrt(rs_new) < tol:  # Verificar convergencia\n",
    "            break\n",
    "        \n",
    "        beta = rs_new / rs_old\n",
    "        p = r + beta * p  # Actualizar dirección conjugada\n",
    "        rs_old = rs_new\n",
    "\n",
    "    return x\n",
    "\n",
    "A = np.random.randn(4, 4)  # Matriz aleatoria de 4x4\n",
    "\n",
    "# Hacerla simétrica\n",
    "A = (A + A.T) / 2\n",
    "\n",
    "# Hacerla definida positiva sumándole un múltiplo de la identidad\n",
    "A += 4 * np.eye(4)  # Asegura que todos los autovalores sean positivos\n",
    "\n",
    "# Imprimir la matriz resultante\n",
    "print(\"Matriz simétrica y definida positiva:\\n\", A)\n",
    "\n",
    "# Verificar si es definida positiva\n",
    "eigvals = np.linalg.eigvals(A)\n",
    "print(\"Autovalores:\", eigvals)\n",
    "print(\"¿Es definida positiva?\", np.all(eigvals > 0))  # Deben ser todos positivos\n",
    "# Definir un vector b\n",
    "b = np.array([1, 2,1,1])\n",
    "\n",
    "grad = gradiente_conjugado(A, b)\n",
    "\n",
    "# Imprimir la solución\n",
    "print(\"Solución al gradiante conjugado:\", grad)\n",
    "\n",
    "# Verificar si Ax ≈ b\n",
    "print(\"Ax:\", A @ grad)\n",
    "print(\"b:\", b)\n"
   ]
  },
  {
   "attachments": {},
   "cell_type": "markdown",
   "id": "95b3618c",
   "metadata": {},
   "source": []
  }
 ],
 "metadata": {
  "kernelspec": {
   "display_name": "Python 3 (ipykernel)",
   "language": "python",
   "name": "python3"
  },
  "language_info": {
   "codemirror_mode": {
    "name": "ipython",
    "version": 3
   },
   "file_extension": ".py",
   "mimetype": "text/x-python",
   "name": "python",
   "nbconvert_exporter": "python",
   "pygments_lexer": "ipython3",
   "version": "3.10.9"
  }
 },
 "nbformat": 4,
 "nbformat_minor": 5
}
